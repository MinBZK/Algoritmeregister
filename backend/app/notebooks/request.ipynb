{
 "cells": [
  {
   "cell_type": "code",
   "execution_count": 3,
   "metadata": {},
   "outputs": [
    {
     "data": {
      "text/plain": [
       "0.020698"
      ]
     },
     "execution_count": 3,
     "metadata": {},
     "output_type": "execute_result"
    }
   ],
   "source": [
    "import requests\n",
    "\n",
    "body = {\"filters\": [], \"page\": 1, \"limit\": 100, \"search\": \"\"}\n",
    "r = requests.post(\"http://localhost:8000/api/algoritme\", json=body)\n",
    "r.elapsed.total_seconds()\n"
   ]
  }
 ],
 "metadata": {
  "kernelspec": {
   "display_name": ".venv",
   "language": "python",
   "name": "python3"
  },
  "language_info": {
   "codemirror_mode": {
    "name": "ipython",
    "version": 3
   },
   "file_extension": ".py",
   "mimetype": "text/x-python",
   "name": "python",
   "nbconvert_exporter": "python",
   "pygments_lexer": "ipython3",
   "version": "3.11.0"
  },
  "orig_nbformat": 4,
  "vscode": {
   "interpreter": {
    "hash": "2c68b73ee4a8a00702303c18fd5a9e80181e768c01411da6970ac8482f024551"
   }
  }
 },
 "nbformat": 4,
 "nbformat_minor": 2
}
