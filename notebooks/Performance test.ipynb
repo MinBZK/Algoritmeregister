{
 "cells": [
  {
   "cell_type": "code",
   "execution_count": null,
   "metadata": {},
   "outputs": [],
   "source": [
    "import grequests\n",
    "\n",
    "n_requests = 1000\n",
    "\n",
    "payload = {\"filters\": [], \"page\": 3, \"limit\": 10, \"search\": \"\"}\n",
    "urls = [\"http://localhost:8000/api/algoritme\" for i in range(0, n_requests)]\n",
    "rs = (grequests.post(u, json=payload) for u in urls)\n",
    "responses = grequests.map(rs)\n",
    "[r.elapsed.total_seconds() for r in responses]"
   ]
  }
 ],
 "metadata": {
  "kernelspec": {
   "display_name": ".venv",
   "language": "python",
   "name": "python3"
  },
  "language_info": {
   "codemirror_mode": {
    "name": "ipython",
    "version": 3
   },
   "file_extension": ".py",
   "mimetype": "text/x-python",
   "name": "python",
   "nbconvert_exporter": "python",
   "pygments_lexer": "ipython3",
   "version": "3.11.0 (main, Oct 31 2022, 10:16:34) [GCC 9.3.0]"
  },
  "orig_nbformat": 4,
  "vscode": {
   "interpreter": {
    "hash": "2c68b73ee4a8a00702303c18fd5a9e80181e768c01411da6970ac8482f024551"
   }
  }
 },
 "nbformat": 4,
 "nbformat_minor": 2
}
